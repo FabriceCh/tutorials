{
 "cells": [
  {
   "cell_type": "code",
   "execution_count": 2,
   "metadata": {},
   "outputs": [
    {
     "name": "stderr",
     "output_type": "stream",
     "text": [
      "WARNING: Logging before flag parsing goes to stderr.\n",
      "W0822 17:51:46.603608 139803186812544 __init__.py:690] \n",
      "\n",
      "  TensorFlow's `tf-nightly` package will soon be updated to TensorFlow 2.0.\n",
      "\n",
      "  Please upgrade your code to TensorFlow 2.0:\n",
      "    * https://www.tensorflow.org/beta/guide/migration_guide\n",
      "\n",
      "  Or install the latest stable TensorFlow 1.X release:\n",
      "    * `pip install -U \"tensorflow==1.*\"`\n",
      "\n",
      "  Otherwise your code may be broken by the change.\n",
      "\n",
      "  \n"
     ]
    },
    {
     "name": "stdout",
     "output_type": "stream",
     "text": [
      "1.15.0-dev20190821\n"
     ]
    }
   ],
   "source": [
    "from __future__ import absolute_import, division, print_function, unicode_literals\n",
    "\n",
    "import tensorflow as tf\n",
    "from tensorflow import keras\n",
    "\n",
    "import numpy as np\n",
    "\n",
    "print(tf.__version__)\n"
   ]
  },
  {
   "cell_type": "code",
   "execution_count": 3,
   "metadata": {},
   "outputs": [
    {
     "name": "stdout",
     "output_type": "stream",
     "text": [
      "Downloading data from https://storage.googleapis.com/tensorflow/tf-keras-datasets/imdb.npz\n",
      "17465344/17464789 [==============================] - 2s 0us/step\n"
     ]
    }
   ],
   "source": [
    "imdb = keras.datasets.imdb\n",
    "\n",
    "(train_data, train_labels), (test_data, test_labels) = imdb.load_data(num_words=10000)\n"
   ]
  },
  {
   "cell_type": "code",
   "execution_count": 4,
   "metadata": {},
   "outputs": [
    {
     "name": "stdout",
     "output_type": "stream",
     "text": [
      "Training entries: 25000, labels: 25000\n"
     ]
    }
   ],
   "source": [
    "print(\"Training entries: {}, labels: {}\".format(len(train_data), len(train_labels)))\n"
   ]
  },
  {
   "cell_type": "code",
   "execution_count": 5,
   "metadata": {},
   "outputs": [
    {
     "name": "stdout",
     "output_type": "stream",
     "text": [
      "[1, 14, 22, 16, 43, 530, 973, 1622, 1385, 65, 458, 4468, 66, 3941, 4, 173, 36, 256, 5, 25, 100, 43, 838, 112, 50, 670, 2, 9, 35, 480, 284, 5, 150, 4, 172, 112, 167, 2, 336, 385, 39, 4, 172, 4536, 1111, 17, 546, 38, 13, 447, 4, 192, 50, 16, 6, 147, 2025, 19, 14, 22, 4, 1920, 4613, 469, 4, 22, 71, 87, 12, 16, 43, 530, 38, 76, 15, 13, 1247, 4, 22, 17, 515, 17, 12, 16, 626, 18, 2, 5, 62, 386, 12, 8, 316, 8, 106, 5, 4, 2223, 5244, 16, 480, 66, 3785, 33, 4, 130, 12, 16, 38, 619, 5, 25, 124, 51, 36, 135, 48, 25, 1415, 33, 6, 22, 12, 215, 28, 77, 52, 5, 14, 407, 16, 82, 2, 8, 4, 107, 117, 5952, 15, 256, 4, 2, 7, 3766, 5, 723, 36, 71, 43, 530, 476, 26, 400, 317, 46, 7, 4, 2, 1029, 13, 104, 88, 4, 381, 15, 297, 98, 32, 2071, 56, 26, 141, 6, 194, 7486, 18, 4, 226, 22, 21, 134, 476, 26, 480, 5, 144, 30, 5535, 18, 51, 36, 28, 224, 92, 25, 104, 4, 226, 65, 16, 38, 1334, 88, 12, 16, 283, 5, 16, 4472, 113, 103, 32, 15, 16, 5345, 19, 178, 32]\n"
     ]
    }
   ],
   "source": [
    "print(train_data[0])\n"
   ]
  },
  {
   "cell_type": "code",
   "execution_count": 6,
   "metadata": {},
   "outputs": [
    {
     "data": {
      "text/plain": [
       "(218, 189)"
      ]
     },
     "execution_count": 6,
     "metadata": {},
     "output_type": "execute_result"
    }
   ],
   "source": [
    "len(train_data[0]), len(train_data[1])\n"
   ]
  },
  {
   "cell_type": "code",
   "execution_count": 8,
   "metadata": {},
   "outputs": [
    {
     "name": "stdout",
     "output_type": "stream",
     "text": [
      "Downloading data from https://storage.googleapis.com/tensorflow/tf-keras-datasets/imdb_word_index.json\n",
      "1646592/1641221 [==============================] - 0s 0us/step\n"
     ]
    }
   ],
   "source": [
    "word_index = imdb.get_word_index()"
   ]
  },
  {
   "cell_type": "code",
   "execution_count": 9,
   "metadata": {},
   "outputs": [],
   "source": [
    "word_index = {k:(v+3) for k,v in word_index.items()}\n",
    "word_index[\"<PAD>\"] = 0\n",
    "word_index[\"<START>\"] = 1\n",
    "word_index[\"<UNK>\"] = 2  # unknown\n",
    "word_index[\"<UNUSED>\"] = 3\n",
    "\n",
    "reverse_word_index = dict([(value, key) for (key, value) in word_index.items()])\n",
    "\n",
    "def decode_review(text):\n",
    "    return ' '.join([reverse_word_index.get(i, '?') for i in text])"
   ]
  },
  {
   "cell_type": "code",
   "execution_count": 10,
   "metadata": {},
   "outputs": [
    {
     "data": {
      "text/plain": [
       "\"<START> this film was just brilliant casting location scenery story direction everyone's really suited the part they played and you could just imagine being there robert <UNK> is an amazing actor and now the same being director <UNK> father came from the same scottish island as myself so i loved the fact there was a real connection with this film the witty remarks throughout the film were great it was just brilliant so much that i bought the film as soon as it was released for <UNK> and would recommend it to everyone to watch and the fly fishing was amazing really cried at the end it was so sad and you know what they say if you cry at a film it must have been good and this definitely was also <UNK> to the two little boy's that played the <UNK> of norman and paul they were just brilliant children are often left out of the <UNK> list i think because the stars that play them all grown up are such a big profile for the whole film but these children are amazing and should be praised for what they have done don't you think the whole story was so lovely because it was true and was someone's life after all that was shared with us all\""
      ]
     },
     "execution_count": 10,
     "metadata": {},
     "output_type": "execute_result"
    }
   ],
   "source": [
    "decode_review(train_data[0])"
   ]
  },
  {
   "cell_type": "code",
   "execution_count": 11,
   "metadata": {},
   "outputs": [
    {
     "data": {
      "text/plain": [
       "1"
      ]
     },
     "execution_count": 11,
     "metadata": {},
     "output_type": "execute_result"
    }
   ],
   "source": [
    "train_labels[0]"
   ]
  },
  {
   "cell_type": "code",
   "execution_count": 12,
   "metadata": {},
   "outputs": [
    {
     "data": {
      "text/plain": [
       "\"<START> big hair big boobs bad music and a giant safety pin these are the words to best describe this terrible movie i love cheesy horror movies and i've seen hundreds but this had got to be on of the worst ever made the plot is paper thin and ridiculous the acting is an abomination the script is completely laughable the best is the end showdown with the cop and how he worked out who the killer is it's just so damn terribly written the clothes are sickening and funny in equal <UNK> the hair is big lots of boobs <UNK> men wear those cut <UNK> shirts that show off their <UNK> sickening that men actually wore them and the music is just <UNK> trash that plays over and over again in almost every scene there is trashy music boobs and <UNK> taking away bodies and the gym still doesn't close for <UNK> all joking aside this is a truly bad film whose only charm is to look back on the disaster that was the 80's and have a good old laugh at how bad everything was back then\""
      ]
     },
     "execution_count": 12,
     "metadata": {},
     "output_type": "execute_result"
    }
   ],
   "source": [
    "decode_review(train_data[1])"
   ]
  },
  {
   "cell_type": "code",
   "execution_count": 13,
   "metadata": {},
   "outputs": [
    {
     "data": {
      "text/plain": [
       "0"
      ]
     },
     "execution_count": 13,
     "metadata": {},
     "output_type": "execute_result"
    }
   ],
   "source": [
    "train_labels[1]"
   ]
  },
  {
   "cell_type": "code",
   "execution_count": 15,
   "metadata": {},
   "outputs": [],
   "source": [
    "train_data = keras.preprocessing.sequence.pad_sequences(train_data,\n",
    "                                                       value=word_index[\"<PAD>\"],\n",
    "                                                       padding='post',\n",
    "                                                       maxlen=256)\n",
    "test_data = keras.preprocessing.sequence.pad_sequences(test_data,\n",
    "                                                       value=word_index[\"<PAD>\"],\n",
    "                                                       padding='post',\n",
    "                                                       maxlen=256)"
   ]
  },
  {
   "cell_type": "code",
   "execution_count": 16,
   "metadata": {},
   "outputs": [
    {
     "data": {
      "text/plain": [
       "(256, 256)"
      ]
     },
     "execution_count": 16,
     "metadata": {},
     "output_type": "execute_result"
    }
   ],
   "source": [
    "len(train_data[0]), len(train_data[1])"
   ]
  },
  {
   "cell_type": "code",
   "execution_count": 19,
   "metadata": {},
   "outputs": [
    {
     "name": "stdout",
     "output_type": "stream",
     "text": [
      "[1784   86 1117    8 3261   46   11    2   21   29    9 2841   23    4\n",
      " 1010    2  793    6    2 1386 1830   10   10  246   50    9    6 2750\n",
      " 1944  746   90   29    2    8  124    4  882    4  882  496   27    2\n",
      " 2213  537  121  127 1219  130    5   29  494    8  124    4  882  496\n",
      "    4  341    7   27  846   10   10   29    9 1906    8   97    6  236\n",
      "    2 1311    8    4    2    7   31    7    2   91    2 3987   70    4\n",
      "  882   30  579   42    9   12   32   11  537   10   10   11   14   65\n",
      "   44  537   75    2 1775 3353    2 1846    4    2    7  154    5    4\n",
      "  518   53    2    2    7 3211  882   11  399   38   75  257 3807   19\n",
      "    2   17   29  456    4   65    7   27  205  113   10   10    2    4\n",
      "    2    2    9  242    4   91 1202    2    5 2070  307   22    7 5168\n",
      "  126   93   40    2   13  188 1076 3222   19    4    2    7 2348  537\n",
      "   23   53  537   21   82   40    2   13    2   14  280   13  219    4\n",
      "    2  431  758  859    4  953 1052    2    7 5991    5   94   40   25\n",
      "  238   60    2    4    2  804    2    7    4 9941  132    8   67    6\n",
      "   22   15    9  283    8 5168   14   31    9  242  955   48   25  279\n",
      "    2   23   12 1685  195   25  238   60  796    2    4  671    7 2804\n",
      "    5    4  559  154  888    7  726   50   26   49 7008   15  566   30\n",
      "  579   21   64 2574]\n"
     ]
    }
   ],
   "source": [
    "print(train_data[3])"
   ]
  },
  {
   "cell_type": "code",
   "execution_count": 23,
   "metadata": {},
   "outputs": [
    {
     "name": "stdout",
     "output_type": "stream",
     "text": [
      "Model: \"sequential_3\"\n",
      "_________________________________________________________________\n",
      "Layer (type)                 Output Shape              Param #   \n",
      "=================================================================\n",
      "embedding_3 (Embedding)      (None, None, 16)          160000    \n",
      "_________________________________________________________________\n",
      "global_average_pooling1d_3 ( (None, 16)                0         \n",
      "_________________________________________________________________\n",
      "dense_6 (Dense)              (None, 16)                272       \n",
      "_________________________________________________________________\n",
      "dense_7 (Dense)              (None, 1)                 17        \n",
      "=================================================================\n",
      "Total params: 160,289\n",
      "Trainable params: 160,289\n",
      "Non-trainable params: 0\n",
      "_________________________________________________________________\n"
     ]
    }
   ],
   "source": [
    "vocab_size = 10000\n",
    "model = keras.Sequential()\n",
    "model.add(keras.layers.Embedding(vocab_size, 16))\n",
    "model.add(keras.layers.GlobalAveragePooling1D())\n",
    "model.add(keras.layers.Dense(16, activation=tf.nn.relu))\n",
    "model.add(keras.layers.Dense(1, activation=tf.nn.sigmoid))\n",
    "\n",
    "model.summary()"
   ]
  },
  {
   "cell_type": "code",
   "execution_count": 24,
   "metadata": {},
   "outputs": [
    {
     "name": "stderr",
     "output_type": "stream",
     "text": [
      "W0822 19:50:46.625624 139803186812544 deprecation.py:323] From /home/fabrice/.local/lib/python3.7/site-packages/tensorflow_core/python/ops/nn_impl.py:183: where (from tensorflow.python.ops.array_ops) is deprecated and will be removed in a future version.\n",
      "Instructions for updating:\n",
      "Use tf.where in 2.0, which has the same broadcast rule as np.where\n"
     ]
    }
   ],
   "source": [
    "model.compile(optimizer='adam',\n",
    "             loss='binary_crossentropy',\n",
    "             metrics=['acc'])"
   ]
  },
  {
   "cell_type": "code",
   "execution_count": 26,
   "metadata": {},
   "outputs": [],
   "source": [
    "x_validation = train_data[:10000]\n",
    "partial_x_train = train_data[10000:]\n",
    "\n",
    "y_validation = train_labels[:10000]\n",
    "partial_y_train = train_labels[10000:]"
   ]
  },
  {
   "cell_type": "code",
   "execution_count": 27,
   "metadata": {},
   "outputs": [
    {
     "name": "stdout",
     "output_type": "stream",
     "text": [
      "Train on 15000 samples, validate on 10000 samples\n",
      "Epoch 1/40\n",
      "15000/15000 [==============================] - 1s 44us/sample - loss: 0.6917 - acc: 0.5115 - val_loss: 0.6894 - val_acc: 0.5383\n",
      "Epoch 2/40\n",
      "15000/15000 [==============================] - 1s 35us/sample - loss: 0.6849 - acc: 0.6738 - val_loss: 0.6804 - val_acc: 0.6977\n",
      "Epoch 3/40\n",
      "15000/15000 [==============================] - 0s 32us/sample - loss: 0.6710 - acc: 0.7295 - val_loss: 0.6633 - val_acc: 0.7376\n",
      "Epoch 4/40\n",
      "15000/15000 [==============================] - 1s 36us/sample - loss: 0.6472 - acc: 0.7471 - val_loss: 0.6363 - val_acc: 0.7632\n",
      "Epoch 5/40\n",
      "15000/15000 [==============================] - 1s 38us/sample - loss: 0.6125 - acc: 0.7836 - val_loss: 0.6006 - val_acc: 0.7838\n",
      "Epoch 6/40\n",
      "15000/15000 [==============================] - 0s 33us/sample - loss: 0.5692 - acc: 0.8117 - val_loss: 0.5593 - val_acc: 0.8006\n",
      "Epoch 7/40\n",
      "15000/15000 [==============================] - 0s 31us/sample - loss: 0.5212 - acc: 0.8309 - val_loss: 0.5142 - val_acc: 0.8245\n",
      "Epoch 8/40\n",
      "15000/15000 [==============================] - 1s 36us/sample - loss: 0.4734 - acc: 0.8499 - val_loss: 0.4730 - val_acc: 0.8342\n",
      "Epoch 9/40\n",
      "15000/15000 [==============================] - 1s 34us/sample - loss: 0.4293 - acc: 0.8640 - val_loss: 0.4363 - val_acc: 0.8455\n",
      "Epoch 10/40\n",
      "15000/15000 [==============================] - 1s 34us/sample - loss: 0.3905 - acc: 0.8770 - val_loss: 0.4061 - val_acc: 0.8535\n",
      "Epoch 11/40\n",
      "15000/15000 [==============================] - 0s 31us/sample - loss: 0.3577 - acc: 0.8847 - val_loss: 0.3813 - val_acc: 0.8605\n",
      "Epoch 12/40\n",
      "15000/15000 [==============================] - 1s 34us/sample - loss: 0.3301 - acc: 0.8925 - val_loss: 0.3624 - val_acc: 0.8636\n",
      "Epoch 13/40\n",
      "15000/15000 [==============================] - 0s 32us/sample - loss: 0.3074 - acc: 0.8981 - val_loss: 0.3459 - val_acc: 0.8699\n",
      "Epoch 14/40\n",
      "15000/15000 [==============================] - 0s 33us/sample - loss: 0.2872 - acc: 0.9033 - val_loss: 0.3337 - val_acc: 0.8736\n",
      "Epoch 15/40\n",
      "15000/15000 [==============================] - 0s 33us/sample - loss: 0.2702 - acc: 0.9083 - val_loss: 0.3235 - val_acc: 0.8757\n",
      "Epoch 16/40\n",
      "15000/15000 [==============================] - 0s 32us/sample - loss: 0.2550 - acc: 0.9141 - val_loss: 0.3153 - val_acc: 0.8755\n",
      "Epoch 17/40\n",
      "15000/15000 [==============================] - 0s 32us/sample - loss: 0.2409 - acc: 0.9191 - val_loss: 0.3085 - val_acc: 0.8796\n",
      "Epoch 18/40\n",
      "15000/15000 [==============================] - 1s 34us/sample - loss: 0.2285 - acc: 0.9232 - val_loss: 0.3027 - val_acc: 0.8813\n",
      "Epoch 19/40\n",
      "15000/15000 [==============================] - 0s 33us/sample - loss: 0.2172 - acc: 0.9248 - val_loss: 0.2980 - val_acc: 0.8815\n",
      "Epoch 20/40\n",
      "15000/15000 [==============================] - 0s 30us/sample - loss: 0.2072 - acc: 0.9291 - val_loss: 0.2948 - val_acc: 0.8829\n",
      "Epoch 21/40\n",
      "15000/15000 [==============================] - 1s 34us/sample - loss: 0.1967 - acc: 0.9340 - val_loss: 0.2921 - val_acc: 0.8838\n",
      "Epoch 22/40\n",
      "15000/15000 [==============================] - 0s 33us/sample - loss: 0.1881 - acc: 0.9379 - val_loss: 0.2895 - val_acc: 0.8846\n",
      "Epoch 23/40\n",
      "15000/15000 [==============================] - 0s 32us/sample - loss: 0.1794 - acc: 0.9415 - val_loss: 0.2889 - val_acc: 0.8839\n",
      "Epoch 24/40\n",
      "15000/15000 [==============================] - 1s 38us/sample - loss: 0.1719 - acc: 0.9453 - val_loss: 0.2879 - val_acc: 0.8843\n",
      "Epoch 25/40\n",
      "15000/15000 [==============================] - 0s 32us/sample - loss: 0.1641 - acc: 0.9485 - val_loss: 0.2864 - val_acc: 0.8860\n",
      "Epoch 26/40\n",
      "15000/15000 [==============================] - 1s 34us/sample - loss: 0.1567 - acc: 0.9510 - val_loss: 0.2876 - val_acc: 0.8844\n",
      "Epoch 27/40\n",
      "15000/15000 [==============================] - 1s 34us/sample - loss: 0.1497 - acc: 0.9535 - val_loss: 0.2873 - val_acc: 0.8857\n",
      "Epoch 28/40\n",
      "15000/15000 [==============================] - 1s 37us/sample - loss: 0.1431 - acc: 0.9561 - val_loss: 0.2888 - val_acc: 0.8856\n",
      "Epoch 29/40\n",
      "15000/15000 [==============================] - 1s 35us/sample - loss: 0.1373 - acc: 0.9589 - val_loss: 0.2905 - val_acc: 0.8847\n",
      "Epoch 30/40\n",
      "15000/15000 [==============================] - 1s 37us/sample - loss: 0.1312 - acc: 0.9609 - val_loss: 0.2906 - val_acc: 0.8860\n",
      "Epoch 31/40\n",
      "15000/15000 [==============================] - 1s 35us/sample - loss: 0.1251 - acc: 0.9632 - val_loss: 0.2921 - val_acc: 0.8865\n",
      "Epoch 32/40\n",
      "15000/15000 [==============================] - 0s 29us/sample - loss: 0.1198 - acc: 0.9663 - val_loss: 0.2942 - val_acc: 0.8863\n",
      "Epoch 33/40\n",
      "15000/15000 [==============================] - 1s 38us/sample - loss: 0.1147 - acc: 0.9673 - val_loss: 0.2972 - val_acc: 0.8849\n",
      "Epoch 34/40\n",
      "15000/15000 [==============================] - 0s 32us/sample - loss: 0.1100 - acc: 0.9691 - val_loss: 0.3003 - val_acc: 0.8842\n",
      "Epoch 35/40\n",
      "15000/15000 [==============================] - 0s 32us/sample - loss: 0.1056 - acc: 0.9701 - val_loss: 0.3034 - val_acc: 0.8839\n",
      "Epoch 36/40\n",
      "15000/15000 [==============================] - 0s 30us/sample - loss: 0.1012 - acc: 0.9723 - val_loss: 0.3056 - val_acc: 0.8832\n",
      "Epoch 37/40\n",
      "15000/15000 [==============================] - 1s 34us/sample - loss: 0.0967 - acc: 0.9732 - val_loss: 0.3091 - val_acc: 0.8831\n",
      "Epoch 38/40\n",
      "15000/15000 [==============================] - 1s 36us/sample - loss: 0.0927 - acc: 0.9751 - val_loss: 0.3135 - val_acc: 0.8816\n",
      "Epoch 39/40\n",
      "15000/15000 [==============================] - 1s 34us/sample - loss: 0.0895 - acc: 0.9765 - val_loss: 0.3183 - val_acc: 0.8814\n",
      "Epoch 40/40\n",
      "15000/15000 [==============================] - 1s 35us/sample - loss: 0.0852 - acc: 0.9787 - val_loss: 0.3216 - val_acc: 0.8814\n"
     ]
    }
   ],
   "source": [
    "history = model.fit(partial_x_train,\n",
    "                   partial_y_train,\n",
    "                   epochs=40,\n",
    "                   batch_size=512,\n",
    "                   validation_data=(x_validation, y_validation),\n",
    "                   verbose=1)"
   ]
  },
  {
   "cell_type": "code",
   "execution_count": 28,
   "metadata": {},
   "outputs": [
    {
     "name": "stdout",
     "output_type": "stream",
     "text": [
      "25000/25000 [==============================] - 1s 21us/sample - loss: 0.3442 - acc: 0.8698\n",
      "[0.34417985602855683, 0.86984]\n"
     ]
    }
   ],
   "source": [
    "results = model.evaluate(test_data, test_labels)\n",
    "\n",
    "print(results)"
   ]
  },
  {
   "cell_type": "code",
   "execution_count": 29,
   "metadata": {},
   "outputs": [
    {
     "data": {
      "text/plain": [
       "dict_keys(['loss', 'acc', 'val_loss', 'val_acc'])"
      ]
     },
     "execution_count": 29,
     "metadata": {},
     "output_type": "execute_result"
    }
   ],
   "source": [
    "history_dict = history.history\n",
    "history_dict.keys()"
   ]
  },
  {
   "cell_type": "code",
   "execution_count": 31,
   "metadata": {},
   "outputs": [],
   "source": [
    "import matplotlib.pyplot as plt"
   ]
  },
  {
   "cell_type": "code",
   "execution_count": 33,
   "metadata": {},
   "outputs": [],
   "source": [
    "acc = history_dict['acc']\n",
    "val_acc = history_dict['val_acc']\n",
    "loss = history_dict['loss']\n",
    "val_loss = history_dict['val_loss']\n",
    "epochs = range(1, len(acc)+1)"
   ]
  },
  {
   "cell_type": "code",
   "execution_count": 34,
   "metadata": {},
   "outputs": [
    {
     "data": {
      "image/png": "[encoded data removed]",
      "text/plain": [
       "<Figure size 432x288 with 1 Axes>"
      ]
     },
     "metadata": {
      "needs_background": "light"
     },
     "output_type": "display_data"
    }
   ],
   "source": [
    "plt.plot(epochs, loss, 'bo', label='Training loss')\n",
    "plt.plot(epochs, val_loss, 'b', label='Validation loss')\n",
    "plt.title('Training and validation loss')\n",
    "plt.xlabel('Epochs')\n",
    "plt.ylabel('Loss')\n",
    "plt.legend()\n",
    "\n",
    "plt.show()"
   ]
  },
  {
   "cell_type": "code",
   "execution_count": 35,
   "metadata": {},
   "outputs": [
    {
     "data": {
      "image/png": "[encoded data removed]",
      "text/plain": [
       "<Figure size 432x288 with 1 Axes>"
      ]
     },
     "metadata": {
      "needs_background": "light"
     },
     "output_type": "display_data"
    }
   ],
   "source": [
    "plt.clf()\n",
    "\n",
    "plt.plot(epochs, acc, 'bo', label='Training acc')\n",
    "plt.plot(epochs, val_acc, 'b', label='Validation acc')\n",
    "plt.title('Training and validation acc')\n",
    "plt.xlabel('Epochs')\n",
    "plt.ylabel('Accuracy')\n",
    "plt.legend()\n",
    "\n",
    "plt.show()\n"
   ]
  }
 ],
 "metadata": {
  "kernelspec": {
   "display_name": "Python 3",
   "language": "python",
   "name": "python3"
  },
  "language_info": {
   "codemirror_mode": {
    "name": "ipython",
    "version": 3
   },
   "file_extension": ".py",
   "mimetype": "text/x-python",
   "name": "python",
   "nbconvert_exporter": "python",
   "pygments_lexer": "ipython3",
   "version": "3.7.4"
  }
 },
 "nbformat": 4,
 "nbformat_minor": 2
}
